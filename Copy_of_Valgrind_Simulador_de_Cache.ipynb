{
  "nbformat": 4,
  "nbformat_minor": 0,
  "metadata": {
    "colab": {
      "name": "Copy of Valgrind Simulador de Cache.ipynb",
      "provenance": [],
      "collapsed_sections": [],
      "include_colab_link": true
    },
    "kernelspec": {
      "name": "python3",
      "display_name": "Python 3"
    }
  },
  "cells": [
    {
      "cell_type": "markdown",
      "metadata": {
        "id": "view-in-github",
        "colab_type": "text"
      },
      "source": [
        "<a href=\"https://colab.research.google.com/github/PitanoGit/AEDSII-TP1/blob/main/Copy_of_Valgrind_Simulador_de_Cache.ipynb\" target=\"_parent\"><img src=\"https://colab.research.google.com/assets/colab-badge.svg\" alt=\"Open In Colab\"/></a>"
      ]
    },
    {
      "cell_type": "markdown",
      "metadata": {
        "id": "RAQEhS3SxSRw"
      },
      "source": [
        "# Valgrind e  Simulação de Cache: **Cachegrind**\n"
      ]
    },
    {
      "cell_type": "markdown",
      "metadata": {
        "id": "F6dL1CPWLPp6"
      },
      "source": [
        "\n",
        "\n",
        "Este laboratório apresenta o uso da ferramenta cachegrind do ambiente Valgrind, [para maiores informações consulte aqui](https://valgrind.org/docs/manual/cg-manual.html)\n",
        "\n",
        "**Importante**: \n",
        "* A primeira execução do Cachegrind irá fazer a instalação da ferramenta e pode demorar um pouco mais. \n",
        "* Os laboratorios usam uma multiplicação de matrizes como exemplo. O tamanho da matriz cresce com  $O(N^2)$ e o tempo de execução com $O(N^3)$.\n",
        "* Os exemplos estão em C. Mas o Cachegrind trabalha sobre o executável e pode ser usado em qualquer binário. \n",
        "* Fique a vontade para contribuir.\n"
      ]
    },
    {
      "cell_type": "markdown",
      "metadata": {
        "id": "m6xj7BkeMOzf"
      },
      "source": [
        "## Inicialização\n",
        "\n",
        "Primeiro, configurar o laboratório."
      ]
    },
    {
      "cell_type": "code",
      "metadata": {
        "id": "mibTjp3bOJl_",
        "colab": {
          "base_uri": "https://localhost:8080/"
        },
        "outputId": "bac3a5d2-aaa9-4873-84c3-bc8180e6a6a9"
      },
      "source": [
        "!pip install git+git://github.com/canesche/nvcc4jupyter.git\n",
        "!git clone https://github.com/canesche/nvcc4jupyter\n",
        "%load_ext nvcc_plugin"
      ],
      "execution_count": null,
      "outputs": [
        {
          "output_type": "stream",
          "text": [
            "Collecting git+git://github.com/canesche/nvcc4jupyter.git\n",
            "  Cloning git://github.com/canesche/nvcc4jupyter.git to /tmp/pip-req-build-if214n9h\n",
            "  Running command git clone -q git://github.com/canesche/nvcc4jupyter.git /tmp/pip-req-build-if214n9h\n",
            "Requirement already satisfied (use --upgrade to upgrade): ColabPlugin===blind from git+git://github.com/canesche/nvcc4jupyter.git in /usr/local/lib/python3.6/dist-packages\n",
            "Building wheels for collected packages: ColabPlugin\n",
            "  Building wheel for ColabPlugin (setup.py) ... \u001b[?25l\u001b[?25hdone\n",
            "  Created wheel for ColabPlugin: filename=ColabPlugin-blind-cp36-none-any.whl size=12717 sha256=e31ea54e6dfac8a8322c04d5269b5625a6df8f791def6d759d3899764ce58eec\n",
            "  Stored in directory: /tmp/pip-ephem-wheel-cache-m4_g29jl/wheels/87/ae/09/21c6e192181a0472e20ddd1d5212e2cbb113f00ebe14330d0d\n",
            "Successfully built ColabPlugin\n",
            "fatal: destination path 'nvcc4jupyter' already exists and is not an empty directory.\n",
            "The nvcc_plugin extension is already loaded. To reload it, use:\n",
            "  %reload_ext nvcc_plugin\n"
          ],
          "name": "stdout"
        }
      ]
    },
    {
      "cell_type": "markdown",
      "metadata": {
        "id": "xza4HfVdrd7A"
      },
      "source": [
        "# Specify all cache parameters\n",
        "\n",
        "A extensão **\\%\\%cachegrind** é semelhante a linha de comando, importante que os tamanhos de cache devem ser potência de 2, a linha além de potência de 2 começa com 32 bytes. A ordem dos parametros é tamanho da cache, associatividade e tamanho da linha. Os flags para cache de dados, de instruções e de último nível são **D1**, **I1**, and **LL**, respectivamente."
      ]
    },
    {
      "cell_type": "code",
      "metadata": {
        "id": "Hi9N-yl1PuO9",
        "colab": {
          "base_uri": "https://localhost:8080/"
        },
        "outputId": "39ddd4c2-f786-4217-8218-652aec871c0e"
      },
      "source": [
        "%%cachegrind --D1=32768,8,32 --I1=32768,2,32 --LL=65536,2,32 --file\n",
        "#include <stdio.h>\n",
        "#include <stdlib.h>\n",
        "\n",
        "int main(int argc, char const *argv[]) {\n",
        "  \n",
        "  int n = 100;\n",
        "  int a[n][n], b[n][n], c[n][n];\n",
        "  \n",
        "  for (int i = 0; i < n; ++i) {\n",
        "      for (int j = 0; j < n; ++j) {\n",
        "        a[i][j] = i + j;\n",
        "        b[i][j] = i*2 + j;   \n",
        "      }\n",
        "  }\n",
        "  \n",
        "  int temp;\n",
        "  for (int i = 0; i < n; ++i) {\n",
        "      for (int j = 0; j < n; ++j) {\n",
        "          temp = 0;\n",
        "          for (int k = 0; k < n; ++k) {\n",
        "              temp += a[i][k] * b[k][j];\n",
        "          }\n",
        "          c[i][j] = temp;   \n",
        "      }\n",
        "  } \n",
        "  return 0;\n",
        "}"
      ],
      "execution_count": null,
      "outputs": [
        {
          "output_type": "stream",
          "text": [
            "\n",
            "I1  misses:         3,685\n",
            "LLi misses:         3,514\n",
            "I1  miss rate:       0.01%\n",
            "LLi miss rate:       0.01%\n",
            "\n",
            "D   refs:      13,474,774  (12,993,005 rd   + 481,769 wr)\n",
            "D1  misses:       180,018  (   149,402 rd   +  30,616 wr)\n",
            "LLd misses:        53,217  (    22,853 rd   +  30,364 wr)\n",
            "D1  miss rate:        1.3% (       1.1%     +     6.4%  )\n",
            "LLd miss rate:        0.4% (       0.2%     +     6.3%  )\n",
            "\n",
            "LL refs:          183,703  (   153,087 rd   +  30,616 wr)\n",
            "LL misses:         56,731  (    26,367 rd   +  30,364 wr)\n",
            "LL miss rate:         0.1% (       0.1%     +     6.3%  )\n"
          ],
          "name": "stdout"
        }
      ]
    },
    {
      "cell_type": "markdown",
      "metadata": {
        "id": "JThIBQbJncuj"
      },
      "source": [
        "## Atenção aos resultados \n",
        "\n",
        "Valgrind quando simula a cache ele também simula a inicialização do sistema.\n",
        "Portanto, quando for utilizar o valgrind esteja ciente que se o seu código for muito simples será mascarado pela inicialização do sistema."
      ]
    },
    {
      "cell_type": "code",
      "metadata": {
        "colab": {
          "base_uri": "https://localhost:8080/"
        },
        "id": "A7mmbG0An4uq",
        "outputId": "f7c1371e-6446-4bfc-fb79-554620e04642"
      },
      "source": [
        "%%cachegrind --D1=1024,8,32 --I1=32768,2,32 --LL=65536,2,32 --file\n",
        "\n",
        "int main(int argc, char const *argv[]) {\n",
        "  //# empty code\n",
        "}"
      ],
      "execution_count": null,
      "outputs": [
        {
          "output_type": "stream",
          "text": [
            "\n",
            "I1  misses:        3,635\n",
            "LLi misses:        3,509\n",
            "I1  miss rate:      0.09%\n",
            "LLi miss rate:      0.09%\n",
            "\n",
            "D   refs:      1,203,059  (771,626 rd   + 431,433 wr)\n",
            "D1  misses:      284,855  (219,932 rd   +  64,923 wr)\n",
            "LLd misses:       47,873  ( 21,065 rd   +  26,808 wr)\n",
            "D1  miss rate:      23.7% (   28.5%     +    15.0%  )\n",
            "LLd miss rate:       4.0% (    2.7%     +     6.2%  )\n",
            "\n",
            "LL refs:         288,490  (223,567 rd   +  64,923 wr)\n",
            "LL misses:        51,382  ( 24,574 rd   +  26,808 wr)\n",
            "LL miss rate:        1.0% (    0.5%     +     6.2%  )\n"
          ],
          "name": "stdout"
        }
      ]
    },
    {
      "cell_type": "markdown",
      "metadata": {
        "id": "BNTJgXfCEFCc"
      },
      "source": [
        "## Exemplo de código mascarado\n",
        "\n",
        "Abaixo é apresentado um código de **transposição de matrizes** sendo mascarado pela inicialização do sistema.\n",
        "\n",
        "\n"
      ]
    },
    {
      "cell_type": "code",
      "metadata": {
        "colab": {
          "base_uri": "https://localhost:8080/"
        },
        "id": "56Gl2OmfEaZU",
        "outputId": "46b4dbe3-d78f-49cc-863f-fa2926c63cc8"
      },
      "source": [
        "%%cachegrind --D1=1024,8,32 --I1=32768,2,32 --LL=65536,2,32 --file\n",
        "#include <stdio.h>\n",
        "#include <stdlib.h>\n",
        "\n",
        "#define n 32\n",
        "int A[n][n], B[n][n];\n",
        "\n",
        "void trans(int M, int N) { \n",
        "    int i, j, tmp;\n",
        "    for (i = 0; i < N; i++)\n",
        "        for (j = 0; j < M; j++) {\n",
        "            tmp = A[i][j];\n",
        "            B[j][i] = tmp;\n",
        "        }   \n",
        "}\n",
        "\n",
        "int main(int argc, char const *argv[]) {\n",
        "  for (int i = 0; i < n; ++i)\n",
        "    for (int j = 0; j < n; ++j)\n",
        "      A[i][j] = i + j;\n",
        "\n",
        "  trans(n, n); //# transposição de matrizes\n",
        "  return 0;\n",
        "}"
      ],
      "execution_count": null,
      "outputs": [
        {
          "output_type": "stream",
          "text": [
            "\n",
            "I1  misses:        3,643\n",
            "LLi misses:        3,517\n",
            "I1  miss rate:      0.09%\n",
            "LLi miss rate:      0.09%\n",
            "\n",
            "D   refs:      1,221,822  (787,247 rd   + 434,575 wr)\n",
            "D1  misses:      286,142  (220,065 rd   +  66,077 wr)\n",
            "LLd misses:       48,167  ( 21,102 rd   +  27,065 wr)\n",
            "D1  miss rate:      23.4% (   28.0%     +    15.2%  )\n",
            "LLd miss rate:       3.9% (    2.7%     +     6.2%  )\n",
            "\n",
            "LL refs:         289,785  (223,708 rd   +  66,077 wr)\n",
            "LL misses:        51,684  ( 24,619 rd   +  27,065 wr)\n",
            "LL miss rate:        1.0% (    0.5%     +     6.2%  )\n"
          ],
          "name": "stdout"
        }
      ]
    },
    {
      "cell_type": "markdown",
      "metadata": {
        "id": "t0u_02sxHkDR"
      },
      "source": [
        "## Resultados **somente inicialização X transposição de matrizes**\n",
        "\n",
        "Somente Inicialização:\n",
        "* D   refs:      1,203,059  (771,626 rd   + 431,433 wr)\n",
        "* D1  misses:      284,860  (219,936 rd   +  64,924 wr)\n",
        "\n",
        "Transposição de matrizes:\n",
        "* D   refs:      1,221,822  (787,247 rd   + 434,575 wr)\n",
        "* D1  misses:      286,147  (220,069 rd   +  66,078 wr)\n",
        "\n",
        "Note que a diferença é pequena, sendo para a cache dados L1:\n",
        "* D refs: 1221822 - 1203059 = 18763\n",
        "* D1 misses: 286147 - 284860 = 1287"
      ]
    },
    {
      "cell_type": "markdown",
      "metadata": {
        "id": "kn-uBpvwGTlV"
      },
      "source": [
        "## Solução: Mais trabalho para o algoritmo\n",
        "\n",
        "Uma solução é fazer com que o seu código der mais trabalho para cache de dados, assim a inicialização não irá mascarar os resultados.\n",
        "\n"
      ]
    },
    {
      "cell_type": "markdown",
      "metadata": {
        "id": "2i8oSwvFJNK2"
      },
      "source": [
        "### Tranposição simples"
      ]
    },
    {
      "cell_type": "code",
      "metadata": {
        "colab": {
          "base_uri": "https://localhost:8080/"
        },
        "id": "Y6a2YVJWI7k0",
        "outputId": "7771a950-fef5-4a66-d9f2-889c98f9e8e9"
      },
      "source": [
        "%%cachegrind --D1=1024,8,32 --I1=32768,2,32 --LL=65536,2,32 --file\n",
        "#include <stdio.h>\n",
        "#include <stdlib.h>\n",
        "\n",
        "#define n 32\n",
        "int A[n][n], B[n][n];\n",
        "\n",
        "void trans(int M, int N) { \n",
        "    int i, j, tmp;\n",
        "    for (i = 0; i < N; i++)\n",
        "        for (j = 0; j < M; j++) {\n",
        "            tmp = A[i][j];\n",
        "            B[j][i] = tmp;\n",
        "        }   \n",
        "}\n",
        "\n",
        "int main(int argc, char const *argv[]) {\n",
        "  for (int i = 0; i < n; ++i)\n",
        "    for (int j = 0; j < n; ++j)\n",
        "      A[i][j] = i + j;\n",
        "      \n",
        "  for (int i; i < 2000; ++i)\n",
        "    trans(n, n); //# transposição de matrizes\n",
        "  return 0;\n",
        "}"
      ],
      "execution_count": null,
      "outputs": [
        {
          "output_type": "stream",
          "text": [
            "\n",
            "I1  misses:         3,644\n",
            "LLi misses:         3,519\n",
            "I1  miss rate:       0.01%\n",
            "LLi miss rate:       0.01%\n",
            "\n",
            "D   refs:      24,144,358  (19,541,868 rd   + 4,602,490 wr)\n",
            "D1  misses:     2,590,994  (   477,941 rd   + 2,113,053 wr)\n",
            "LLd misses:        48,169  (    21,104 rd   +    27,065 wr)\n",
            "D1  miss rate:       10.7% (       2.4%     +      45.9%  )\n",
            "LLd miss rate:        0.2% (       0.1%     +       0.6%  )\n",
            "\n",
            "LL refs:        2,594,638  (   481,585 rd   + 2,113,053 wr)\n",
            "LL misses:         51,688  (    24,623 rd   +    27,065 wr)\n",
            "LL miss rate:         0.1% (       0.0%     +       0.6%  )\n"
          ],
          "name": "stdout"
        }
      ]
    },
    {
      "cell_type": "code",
      "metadata": {
        "colab": {
          "base_uri": "https://localhost:8080/"
        },
        "id": "ktz55mrWJKe1",
        "outputId": "789def3a-1b60-4a19-a901-6f086bbac711"
      },
      "source": [
        "%%cachegrind --D1=1024,8,32 --I1=32768,2,32 --LL=65536,2,32 --file\n",
        "#include <stdio.h>\n",
        "#include <stdlib.h>\n",
        "\n",
        "#define n 32\n",
        "int A[n][n], B[n][n];\n",
        "\n",
        "void transpose_32_32(int M, int N) {\n",
        "    int BLOCK_SIZE, rowIndex, colIndex, blockedRowIndex, blockedColIndex, eBlockDiagl, iBlockDiagl;\n",
        "    BLOCK_SIZE = 8;        \n",
        "    for (colIndex = 0; colIndex < M; colIndex += BLOCK_SIZE) {\n",
        "        for (rowIndex = 0; rowIndex < N; rowIndex += BLOCK_SIZE) {\n",
        "            for (blockedRowIndex = rowIndex; blockedRowIndex < rowIndex + BLOCK_SIZE; ++blockedRowIndex) {\n",
        "                for (blockedColIndex = colIndex; blockedColIndex < colIndex + BLOCK_SIZE; ++blockedColIndex) {\n",
        "                    if (blockedRowIndex != blockedColIndex)\n",
        "                        B[blockedColIndex][blockedRowIndex] = A[blockedRowIndex][blockedColIndex];\n",
        "                    else {\n",
        "                        eBlockDiagl = A[blockedRowIndex][blockedColIndex];\n",
        "                        iBlockDiagl = blockedRowIndex;\n",
        "                    }\n",
        "                }\n",
        "                if (colIndex == rowIndex)\n",
        "                    B[iBlockDiagl][iBlockDiagl] = eBlockDiagl;               \n",
        "            }\n",
        "        }\n",
        "    } \n",
        "}\n",
        "\n",
        "int main(int argc, char const *argv[]) {\n",
        "  for (int i = 0; i < n; ++i)\n",
        "    for (int j = 0; j < n; ++j)\n",
        "      A[i][j] = i + j;\n",
        "  for (int i; i < 2000; ++i)\n",
        "    transpose_32_32(n, n); //# transposição de matrizes 32x32\n",
        "  return 0;\n",
        "}"
      ],
      "execution_count": null,
      "outputs": [
        {
          "output_type": "stream",
          "text": [
            "\n",
            "I1  misses:         3,649\n",
            "LLi misses:         3,524\n",
            "I1  miss rate:       0.01%\n",
            "LLi miss rate:       0.01%\n",
            "\n",
            "D   refs:      29,162,358  (26,245,868 rd   + 2,916,490 wr)\n",
            "D1  misses:     1,842,994  (   477,941 rd   + 1,365,053 wr)\n",
            "LLd misses:        48,169  (    21,104 rd   +    27,065 wr)\n",
            "D1  miss rate:        6.3% (       1.8%     +      46.8%  )\n",
            "LLd miss rate:        0.2% (       0.1%     +       0.9%  )\n",
            "\n",
            "LL refs:        1,846,643  (   481,590 rd   + 1,365,053 wr)\n",
            "LL misses:         51,693  (    24,628 rd   +    27,065 wr)\n",
            "LL miss rate:         0.1% (       0.0%     +       0.9%  )\n"
          ],
          "name": "stdout"
        }
      ]
    },
    {
      "cell_type": "markdown",
      "metadata": {
        "id": "Nh0VwsfOMQ2W"
      },
      "source": [
        "### Processando os dados: **Transposição simples X Transposição 32x32**\n",
        "\n",
        "Note que a cache de dados teve maiores valores na transposição 32x32:\n",
        "\n",
        "* Transposição simples: 24,144,358\n",
        "* Transposição 32x32:   29,162,358\n",
        "\n",
        "Contudo as falhas na transposição 32x32 foram menores:\n",
        "\n",
        "* Transposição simples: 10.7%\n",
        "* Transposição 32x32:   6.3%\n",
        "\n",
        "Logo, quanto menos falha na cache L1 melhor."
      ]
    },
    {
      "cell_type": "markdown",
      "metadata": {
        "id": "0jtIuYs8pM7j"
      },
      "source": [
        "# Variando o tamanho da Cache e visualizando falhas e taxa de falhas\n",
        "\n",
        "A extensão **\\%\\%rangecachegrind** executa várias vezes com tamanhos de cache especificados pela lista **datacache=(4,8,16,32)**, em Kbytes. O usuário especifica a associatividade (**ways**) e o tamanho do linha  (**line**), os gráficos são gerados de forma automática."
      ]
    },
    {
      "cell_type": "code",
      "metadata": {
        "id": "b96CrTPcOk1k",
        "colab": {
          "base_uri": "https://localhost:8080/",
          "height": 312
        },
        "outputId": "b2584661-5011-4d84-f501-2b4c0e4decbf"
      },
      "source": [
        "%%rangecachegrind datacache=(1,2,4,8,16); ways=2; line=32; bargraph=(misses)\n",
        "\n",
        "#include <stdio.h>\n",
        "#include <stdlib.h>\n",
        "\n",
        "int main(int argc, char const *argv[]) {\n",
        "  \n",
        "  int n = 200;\n",
        "  int a[n][n], b[n][n], c[n][n];\n",
        "  \n",
        "  for (int i = 0; i < n; ++i) {\n",
        "      for (int j = 0; j < n; ++j) {\n",
        "        a[i][j] = i + j;\n",
        "        b[i][j] = i*2 + j;   \n",
        "      }\n",
        "  }\n",
        "  \n",
        "  int temp;\n",
        "  for (int i = 0; i < n; ++i) {\n",
        "      for (int j = 0; j < n; ++j) {\n",
        "          temp = 0;\n",
        "          for (int k = 0; k < n; ++k) {\n",
        "              temp += a[i][k] * b[k][j];\n",
        "          }\n",
        "          c[i][j] = temp;   \n",
        "      }\n",
        "  } \n",
        "  return 0;\n",
        "}"
      ],
      "execution_count": null,
      "outputs": [
        {
          "output_type": "stream",
          "text": [
            "\n"
          ],
          "name": "stdout"
        },
        {
          "output_type": "display_data",
          "data": {
            "image/png": "[encoded data removed]",
            "text/plain": [
              "<Figure size 432x288 with 1 Axes>"
            ]
          },
          "metadata": {
            "tags": [],
            "needs_background": "light"
          }
        }
      ]
    },
    {
      "cell_type": "markdown",
      "metadata": {
        "id": "iOJHvvB8QVNi"
      },
      "source": [
        "# Tarefa\n",
        "\n",
        "Variando os valores da cache de dados, ways e a lines (Utilize criatividade para mostrar )"
      ]
    },
    {
      "cell_type": "markdown",
      "metadata": {
        "id": "bO9US3OOxkTU"
      },
      "source": [
        "**Agoritmo Recursivo(otimizado):**\n",
        "\n"
      ]
    },
    {
      "cell_type": "code",
      "metadata": {
        "id": "kzoHkecaQVpY",
        "colab": {
          "base_uri": "https://localhost:8080/",
          "height": 312
        },
        "outputId": "65a66371-3315-4a3e-ea57-831eeb32e5f1"
      },
      "source": [
        "%%rangecachegrind datacache=(1,2,4,8,16); ways=2; line=32; bargraph=(misses)\n",
        "\n",
        "#include <stdio.h>\n",
        "#include <stdlib.h>\n",
        "\n",
        "void hanoi_recursivo(int n,char origem,char destino,char auxiliar){\t\n",
        "\tif(n==1){ \n",
        "\t\t//printf(\"\\nMova o disco 1 da base %c para a base %c\",origem ,destino);\n",
        "\t\treturn;\n",
        "\t}\t\n",
        "\thanoi_recursivo(n-1,origem,auxiliar,destino);\t\n",
        "\t//printf(\"\\nMova o disco %d da base %c para a base %c\",n,origem,destino);\t\n",
        "\thanoi_recursivo(n-1,auxiliar,destino,origem);\n",
        "}\n",
        "\n",
        "int main(){\t\n",
        "\thanoi_recursivo(15,'A','C','B');\n",
        "\treturn 0;\n",
        "}"
      ],
      "execution_count": null,
      "outputs": [
        {
          "output_type": "stream",
          "text": [
            "\n"
          ],
          "name": "stdout"
        },
        {
          "output_type": "display_data",
          "data": {
            "image/png": "[encoded data removed]",
            "text/plain": [
              "<Figure size 432x288 with 1 Axes>"
            ]
          },
          "metadata": {
            "tags": [],
            "needs_background": "light"
          }
        }
      ]
    },
    {
      "cell_type": "markdown",
      "metadata": {
        "id": "Zobm2yxtyLp6"
      },
      "source": [
        "**Agoritmo Iterativo:**\n",
        "\n"
      ]
    },
    {
      "cell_type": "code",
      "metadata": {
        "colab": {
          "base_uri": "https://localhost:8080/",
          "height": 312
        },
        "id": "r_J-f9DsWv8u",
        "outputId": "9490b02e-a8b4-470d-f173-5701d7777fa0"
      },
      "source": [
        "%%rangecachegrind datacache=(1,2,4,8,16); ways=2; line=32; bargraph=(misses)\n",
        "\n",
        "#include <stdio.h>\n",
        "#include <stdlib.h>\n",
        "\n",
        "void hanoi_iterativo (int n) {\n",
        "    \n",
        "    int origem, destino, k ;  \n",
        "    for(k=1; k < (1 << n); k++) {        \n",
        "        origem = (k&(k-1))%3 ;        \n",
        "        destino   = ((k|(k-1))+1)%3 ;        \n",
        "        //printf(\"Mova disco de %d para %d\\n\", origem, destino) ;\n",
        "    }\n",
        "}\n",
        "\n",
        "int main(){\t\n",
        "\thanoi_iterativo(15);\t\n",
        "\treturn 0;\n",
        "}"
      ],
      "execution_count": null,
      "outputs": [
        {
          "output_type": "stream",
          "text": [
            "\n"
          ],
          "name": "stdout"
        },
        {
          "output_type": "display_data",
          "data": {
            "image/png": "[encoded data removed]",
            "text/plain": [
              "<Figure size 432x288 with 1 Axes>"
            ]
          },
          "metadata": {
            "tags": [],
            "needs_background": "light"
          }
        }
      ]
    },
    {
      "cell_type": "markdown",
      "metadata": {
        "id": "favGDRTH02Kd"
      },
      "source": [
        "**Agoritmo Iterativo:**\n",
        "4 ways - 64 lines\n"
      ]
    },
    {
      "cell_type": "code",
      "metadata": {
        "colab": {
          "base_uri": "https://localhost:8080/",
          "height": 312
        },
        "id": "tO6x6FCf08F1",
        "outputId": "36009ff1-5fb3-425b-8a85-e1283223a26b"
      },
      "source": [
        "%%rangecachegrind datacache=(1,2,4,8,16); ways=4; line=64; bargraph=(misses)\n",
        "\n",
        "#include <stdio.h>\n",
        "#include <stdlib.h>\n",
        "\n",
        "void hanoi_recursivo(int n,char origem,char destino,char auxiliar){\t\n",
        "\tif(n==1){ \n",
        "\t\t//printf(\"\\nMova o disco 1 da base %c para a base %c\",origem ,destino);\n",
        "\t\treturn;\n",
        "\t}\t\n",
        "\thanoi_recursivo(n-1,origem,auxiliar,destino);\t\n",
        "\t//printf(\"\\nMova o disco %d da base %c para a base %c\",n,origem,destino);\t\n",
        "\thanoi_recursivo(n-1,auxiliar,destino,origem);\n",
        "}\n",
        "\n",
        "int main(){\t\n",
        "\thanoi_recursivo(15,'A','C','B');\n",
        "\treturn 0;\n",
        "}"
      ],
      "execution_count": null,
      "outputs": [
        {
          "output_type": "stream",
          "text": [
            "\n"
          ],
          "name": "stdout"
        },
        {
          "output_type": "display_data",
          "data": {
            "image/png": "[encoded data removed]",
            "text/plain": [
              "<Figure size 432x288 with 1 Axes>"
            ]
          },
          "metadata": {
            "tags": [],
            "needs_background": "light"
          }
        }
      ]
    },
    {
      "cell_type": "markdown",
      "metadata": {
        "id": "QH_wVMvy0UA8"
      },
      "source": [
        "**Agoritmo Recursivo(otimizado):**\n",
        "4 ways - 64 lines\n"
      ]
    },
    {
      "cell_type": "code",
      "metadata": {
        "colab": {
          "base_uri": "https://localhost:8080/",
          "height": 312
        },
        "id": "Capf8mYO0UA8",
        "outputId": "24d8cb6a-2bce-488e-ba4e-c42906588c08"
      },
      "source": [
        "%%rangecachegrind datacache=(1,2,4,8,16); ways=4; line=64; bargraph=(misses)\n",
        "\n",
        "#include <stdio.h>\n",
        "#include <stdlib.h>\n",
        "\n",
        "void hanoi_recursivo(int n,char origem,char destino,char auxiliar){\t\n",
        "\tif(n==1){ \n",
        "\t\t//printf(\"\\nMova o disco 1 da base %c para a base %c\",origem ,destino);\n",
        "\t\treturn;\n",
        "\t}\t\n",
        "\thanoi_recursivo(n-1,origem,auxiliar,destino);\t\n",
        "\t//printf(\"\\nMova o disco %d da base %c para a base %c\",n,origem,destino);\t\n",
        "\thanoi_recursivo(n-1,auxiliar,destino,origem);\n",
        "}\n",
        "\n",
        "int main(){\t\n",
        "\thanoi_recursivo(15,'A','C','B');\n",
        "\treturn 0;\n",
        "}"
      ],
      "execution_count": null,
      "outputs": [
        {
          "output_type": "stream",
          "text": [
            "\n"
          ],
          "name": "stdout"
        },
        {
          "output_type": "display_data",
          "data": {
            "image/png": "[encoded data removed]",
            "text/plain": [
              "<Figure size 432x288 with 1 Axes>"
            ]
          },
          "metadata": {
            "tags": [],
            "needs_background": "light"
          }
        }
      ]
    },
    {
      "cell_type": "markdown",
      "metadata": {
        "id": "KaFAFpOlz14D"
      },
      "source": [
        "**Valgrind-Iterativo:**\n"
      ]
    },
    {
      "cell_type": "code",
      "metadata": {
        "colab": {
          "base_uri": "https://localhost:8080/"
        },
        "id": "HYG1IzZkW2Az",
        "outputId": "1b1caa97-eab7-4a3e-aa7a-c0b1228ba2e5"
      },
      "source": [
        "%%cachegrind --D1=1024,8,32 --I1=32768,2,32 --LL=65536,2,32 --file\n",
        "\n",
        "#include <stdio.h>\n",
        "#include <stdlib.h>\n",
        "\n",
        "\n",
        "void hanoi_iterativo (int n) {\n",
        "    \n",
        "    int origem, destino, k ;  \n",
        "    for(k=1; k < (1 << n); k++) {        \n",
        "        origem = (k&(k-1))%3 ;        \n",
        "        destino   = ((k|(k-1))+1)%3 ;        \n",
        "        //printf(\"Mova disco de %d para %d\\n\", origem, destino) ;\n",
        "    }\n",
        "}\n",
        "\n",
        "int main(){\t\n",
        "\thanoi_iterativo(25);\t\n",
        "\treturn 0;\n",
        "}\n"
      ],
      "execution_count": null,
      "outputs": [
        {
          "output_type": "stream",
          "text": [
            "\n",
            "I1  misses:            3,639\n",
            "LLi misses:            3,513\n",
            "I1  miss rate:          0.00%\n",
            "LLi miss rate:          0.00%\n",
            "\n",
            "D   refs:        437,410,668  (302,761,509 rd   + 134,649,159 wr)\n",
            "D1  misses:          284,855  (    219,932 rd   +      64,923 wr)\n",
            "LLd misses:           47,873  (     21,065 rd   +      26,808 wr)\n",
            "D1  miss rate:           0.1% (        0.1%     +         0.0%  )\n",
            "LLd miss rate:           0.0% (        0.0%     +         0.0%  )\n",
            "\n",
            "LL refs:             288,494  (    223,571 rd   +      64,923 wr)\n",
            "LL misses:            51,386  (     24,578 rd   +      26,808 wr)\n",
            "LL miss rate:            0.0% (        0.0%     +         0.0%  )\n"
          ],
          "name": "stdout"
        }
      ]
    },
    {
      "cell_type": "markdown",
      "metadata": {
        "id": "2HDi3C9zz8TB"
      },
      "source": [
        ""
      ]
    },
    {
      "cell_type": "markdown",
      "metadata": {
        "id": "qEewUa3Nz8lR"
      },
      "source": [
        "**Valgrind-Recursivo:**\n"
      ]
    },
    {
      "cell_type": "code",
      "metadata": {
        "colab": {
          "base_uri": "https://localhost:8080/"
        },
        "id": "GUWhuZ3DtoEA",
        "outputId": "066a4549-8792-4ef1-afbb-684eb8ffa5b7"
      },
      "source": [
        "%%cachegrind --D1=1024,8,32 --I1=32768,2,32 --LL=65536,2,32 --file\n",
        "\n",
        "#include <stdio.h>\n",
        "#include <stdlib.h>\n",
        "\n",
        "\n",
        "void hanoi_recursivo(int n,char origem,char destino,char auxiliar){\t\n",
        "\tif(n==1){ \n",
        "\t\t//printf(\"\\nMova o disco 1 da base %c para a base %c\",origem ,destino);\n",
        "\t\treturn;\n",
        "\t}\t\n",
        "\thanoi_recursivo(n-1,origem,auxiliar,destino);\t\n",
        "\t//printf(\"\\nMova o disco %d da base %c para a base %c\",n,origem,destino);\t\n",
        "\thanoi_recursivo(n-1,auxiliar,destino,origem);\n",
        "}\n",
        "\n",
        "int main(){\t\n",
        "\thanoi_recursivo(25,'A','C','B');\n",
        "\treturn 0;\n",
        "}\n"
      ],
      "execution_count": null,
      "outputs": [
        {
          "output_type": "stream",
          "text": [
            "\n",
            "I1  misses:        3,635\n",
            "LLi misses:        3,509\n",
            "I1  miss rate:      0.09%\n",
            "LLi miss rate:      0.09%\n",
            "\n",
            "D   refs:      1,203,057  (771,626 rd   + 431,431 wr)\n",
            "D1  misses:      284,855  (219,932 rd   +  64,923 wr)\n",
            "LLd misses:       47,873  ( 21,065 rd   +  26,808 wr)\n",
            "D1  miss rate:      23.7% (   28.5%     +    15.0%  )\n",
            "LLd miss rate:       4.0% (    2.7%     +     6.2%  )\n",
            "\n",
            "LL refs:         288,490  (223,567 rd   +  64,923 wr)\n",
            "LL misses:        51,382  ( 24,574 rd   +  26,808 wr)\n",
            "LL miss rate:        1.0% (    0.5%     +     6.2%  )\n"
          ],
          "name": "stdout"
        }
      ]
    },
    {
      "cell_type": "markdown",
      "metadata": {
        "id": "8LfSDbzjOJdG"
      },
      "source": [
        "# Explicação dos resultados"
      ]
    },
    {
      "cell_type": "markdown",
      "metadata": {
        "id": "YbnXtb-DOQC_"
      },
      "source": [
        "Ao dobrar a quantidade de linhas e caminhos disponíveis para a cache é possivel observar uma diminuição da quantidade de D1 misses, ou seja, a efetividade da cache melhora. Tomando o algoritmo melhorado como referência, com a ajuda dos gráficos de D1 misses abaixo corroboram com o resultado obtido também na parte deste trabalho realizada em nosso computador:\n",
        "![image.png](data:image/png;base64,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)\n",
        "![image.png](data:image/png;base64,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)\n",
        "\n",
        "\n",
        "\n"
      ]
    }
  ]
}